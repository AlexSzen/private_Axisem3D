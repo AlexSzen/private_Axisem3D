{
 "cells": [
  {
   "cell_type": "markdown",
   "metadata": {},
   "source": [
    "# Plot AxiSEM3D seismograms with netcdf format\n",
    "Author: Alex"
   ]
  },
  {
   "cell_type": "code",
   "execution_count": null,
   "metadata": {},
   "outputs": [],
   "source": [
    "### Modules\n",
    "from netCDF4 import Dataset\n",
    "import numpy as np\n",
    "import matplotlib.pyplot as plt\n",
    "import copy"
   ]
  },
  {
   "cell_type": "code",
   "execution_count": null,
   "metadata": {},
   "outputs": [],
   "source": [
    "### Inputs\n",
    "\n",
    "INPUT_DIR = '/home/alex/Desktop/phd/axisem3d_alex/AxiSEM3D/build/output/stations/'\n",
    "OUTPUT_DIR = '/home/alex/Desktop/phd/figures/seismograms/'\n",
    "\n",
    "STATION = 'II.AAK.ENZ'\n",
    "STATION2 = 'II.IAK.ENZ'"
   ]
  },
  {
   "cell_type": "code",
   "execution_count": null,
   "metadata": {},
   "outputs": [],
   "source": [
    "#### helper functions\n",
    "\n",
    "def time_to_freq(time):\n",
    "\n",
    "    freq = np.asarray(range(int(len(time)/2)+1),dtype = np.float32) / (time[-1] - time[0])\n",
    "    return freq\n",
    "\n",
    "def log_gabor_filter(freq, center_f, sigma):\n",
    "\n",
    "    filt = np.zeros(len(freq), dtype = np.float32)\n",
    "    filt[1:] = np.exp( -np.power(np.log(np.asarray(freq[1:])/center_f), 2.)  / (2. * np.power(np.log(sigma),2.)))\n",
    "    return filt\n",
    "\n",
    "def butter_lowpass_filter(freq, cutoff, order):\n",
    "\n",
    "    filt = 1 / np.sqrt(1 + np.power(freq/cutoff, 2. * order))\n",
    "    return filt\n",
    "\n",
    "def cosine_taper(t, T1, T2):\n",
    "    num_steps = len(t)\n",
    "    taper = np.zeros(num_steps, dtype = np.float32)\n",
    "\n",
    "    ### find start and end indices of time window\n",
    "    ind_start = 0\n",
    "    ind_end = 0\n",
    "    \n",
    "    for it in range(1, num_steps-1):\n",
    "        if t[it-1] <= T1 and t[it]>=T1:\n",
    "            ind_start = it-1\n",
    "        if t[it-1] <= T2 and t[it]>=T2:\n",
    "            ind_end = it        \n",
    "    \n",
    "    taper[ind_start:ind_end+1] = 1\n",
    "    print(ind_start, ind_end)\n",
    "    ### taper 30% before and after window length. make sure no undefined behavior.\n",
    "    cut = int(30 * (ind_end-ind_start) / 100.)\n",
    "    if cut<2:\n",
    "        cut=2\n",
    "    print(cut)\n",
    "    ### fill taper\n",
    "    cos_part = np.cos(3*np.pi/2. + np.pi/2. * ( np.asarray(range(cut), dtype = np.float32) /(cut-1)))\n",
    "    taper[ind_start-cut:ind_start] = cos_part\n",
    "    taper[ind_end+1:ind_end+1+cut] = np.flip(cos_part,0)\n",
    "\n",
    "    return taper"
   ]
  },
  {
   "cell_type": "code",
   "execution_count": null,
   "metadata": {},
   "outputs": [],
   "source": [
    "smgr1 = Dataset(INPUT_DIR + 'axisem3d_synthetics_fwd.nc', 'r')\n",
    "smgr2 = Dataset(INPUT_DIR + 'axisem3d_synthetics.nc', 'r')\n",
    "\n",
    "\n",
    "test = smgr2.variables[STATION2]\n",
    "\n",
    "print(test.latitude)\n",
    "print(test.longitude)\n",
    "\n",
    "### for now phi is hand defined. need to get it from lat and lon.\n",
    "phi = 90. * np.pi/180. \n",
    "\n",
    "time = smgr1.variables['time_points'][:]\n",
    "freq = time_to_freq(time)\n",
    "station = smgr1.variables[STATION][:,:]\n",
    "station2_temp = smgr2.variables[STATION2][:,:]\n",
    "station2 = copy.deepcopy(station2_temp)\n",
    "\n",
    "#station2[:,0] = np.cos(phi)*station2_temp[:,0] - np.sin(phi)*station2_temp[:,1] \n",
    "#station2[:,1] = np.cos(phi)*station2_temp[:,1] + np.sin(phi)*station2_temp[:,0] \n"
   ]
  },
  {
   "cell_type": "code",
   "execution_count": null,
   "metadata": {},
   "outputs": [],
   "source": [
    "length = len(time)\n",
    "start = 0#int(length/2)\n",
    "end = length#start + int(length/2)\n",
    "\n",
    "fig = plt.figure()\n",
    "plt.title('Recorded seismograms')\n",
    "plt.plot(time[start:end], station[start:end,2])\n",
    "plt.plot(time[start:end], station2[start:end,2])\n",
    "#plt.plot(time[start:end], station[start:end,1])\n",
    "#plt.plot(time[start:end], station2[start:end,1])\n",
    "#plt.plot(time[start:end], station[start:end,2])\n",
    "#plt.plot(time[start:end], station2[start:end,2])\n",
    "### plot vertical line at given time\n",
    "#plt.axvline(x=611.538,color='k', linestyle='--')\n",
    "\n",
    "\n",
    "### labels\n",
    "plt.legend(['Z','Z2','N','N2','Z','Z2'])\n",
    "plt.xlabel('Time (s)')\n",
    "plt.ylabel('Amplitude (m)')\n",
    "\n",
    "### Save figure\n",
    "#plt.savefig(OUTPUT_DIR+'pf_test_nu100_nogauss_Z_IAK.png', dpi=300, bbox_inches='tight')"
   ]
  },
  {
   "cell_type": "code",
   "execution_count": null,
   "metadata": {},
   "outputs": [],
   "source": [
    "corr = np.correlate(station[:,2], station2[:,2],'same')\n",
    "\n",
    "print(length/2-np.argmax(corr))\n",
    "\n",
    "test1 = station[22:,2]\n",
    "test2 = station2[:-22,2]\n",
    "\n",
    "plt.plot(test1[1000:])\n",
    "plt.plot(test2[1000:])"
   ]
  },
  {
   "cell_type": "code",
   "execution_count": null,
   "metadata": {},
   "outputs": [],
   "source": [
    "filt = butter_lowpass_filter(freq, 1./90, 4)\n",
    "\n",
    "s=np.squeeze(station[:,2])\n",
    "s2=np.squeeze(station2[:,2])\n",
    "s_f = np.fft.irfft( filt* np.fft.rfft(s), len(s) )\n",
    "s2_f = np.fft.irfft( filt* np.fft.rfft(s2), len(s2) )\n"
   ]
  },
  {
   "cell_type": "code",
   "execution_count": null,
   "metadata": {},
   "outputs": [],
   "source": [
    "fig = plt.figure()\n",
    "plt.title('Recorded seismograms')\n",
    "plt.plot(time[start:end], s_f[start:end])\n",
    "plt.plot(time[start:end], s2_f[start:end])\n",
    "plt.plot(time[start:end], s[start:end])\n",
    "\n",
    "plt.legend(['Filtered Z', 'Filtered Z2', 'Z'])\n",
    "#plt.savefig(OUTPUT_DIR+'pf_test_nu50_nogauss_Z_filtered90.png', dpi=300, bbox_inches='tight')"
   ]
  },
  {
   "cell_type": "code",
   "execution_count": null,
   "metadata": {},
   "outputs": [],
   "source": [
    "45*np.sqrt(2)/2"
   ]
  },
  {
   "cell_type": "code",
   "execution_count": null,
   "metadata": {},
   "outputs": [],
   "source": []
  }
 ],
 "metadata": {
  "kernelspec": {
   "display_name": "Python 3",
   "language": "python",
   "name": "python3"
  },
  "language_info": {
   "codemirror_mode": {
    "name": "ipython",
    "version": 3
   },
   "file_extension": ".py",
   "mimetype": "text/x-python",
   "name": "python",
   "nbconvert_exporter": "python",
   "pygments_lexer": "ipython3",
   "version": "3.6.4"
  }
 },
 "nbformat": 4,
 "nbformat_minor": 2
}
