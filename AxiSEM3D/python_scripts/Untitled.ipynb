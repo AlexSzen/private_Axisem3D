{
 "cells": [
  {
   "cell_type": "markdown",
   "metadata": {},
   "source": [
    "We compute adjoint kernels in python directly. When computed in AxiSEM3D, there is 2 orders magnitude error. When computing a single slice in python, the amplitudes seem correct. We thus want to compute the 3D kernels to make sure."
   ]
  },
  {
   "cell_type": "code",
   "execution_count": 1,
   "metadata": {},
   "outputs": [],
   "source": [
    "import numpy as np\n",
    "from netCDF4 import Dataset\n",
    "from mpi4py import MPI"
   ]
  },
  {
   "cell_type": "code",
   "execution_count": 2,
   "metadata": {},
   "outputs": [],
   "source": [
    "### INPUTS\n",
    "\n",
    "INPUT_FILE_FWD = '/home/alex/Desktop/phd/axisem3d_alex/AxiSEM3D/build/output/wavefields/wavefield_db_fwd.nc4'\n",
    "INPUT_FILE_ADJ = '/home/alex/Desktop/phd/axisem3d_alex/AxiSEM3D/build/output/wavefields/wavefield_db.nc4'\n",
    "\n",
    "START_TSTEP = 0\n",
    "END_TSTEP = 100\n",
    "INT_TSTEP = 1"
   ]
  },
  {
   "cell_type": "code",
   "execution_count": 3,
   "metadata": {},
   "outputs": [
    {
     "name": "stdout",
     "output_type": "stream",
     "text": [
      "0\n"
     ]
    }
   ],
   "source": [
    "### start up MPI \n",
    "\n",
    "comm = MPI.COMM_WORLD\n",
    "rank = comm.Get_rank()\n",
    "print(rank)"
   ]
  },
  {
   "cell_type": "code",
   "execution_count": null,
   "metadata": {},
   "outputs": [],
   "source": [
    "### master loads files\n",
    "\n",
    "if (rank == 0): \n",
    "    dset_fwd = Dataset(INPUT_FILE_FWD)\n",
    "    dset_ker = Dataset(INPUT_FILE_ADJ)\n",
    "\n",
    "    wavefield = dset_fwd.variables[\"displacement_wavefield\"][END_TSTEP:START_TSTEP:-INT_TSTEP] #domain decomposed wavefield.\n",
    "    kernels = dset_ker.variables[\"displacement_wavefield\"][START_TSTEP:END_TSTEP:INT_TSTEP]\n",
    "    sem_mesh = dset_fwd.variables[\"sem_mesh\"][:] #for each point contains global point tag\n",
    "    s_temp = dset_fwd.variables[\"mesh_S\"][:]\n",
    "    z_temp = dset_fwd.variables[\"mesh_Z\"][:]\n",
    "    nu = dset_fwd.variables['Nus'][:]\n",
    "    nuKer = dset_ker.variables['Nus'][:]\n",
    "    vp_temp = dset_fwd.variables['vp1D'][:]\n",
    "    vp = np.expand_dims(vp_temp, axis = 0) # allows to treat it as a wvf\n",
    "    rho_temp = dset_fwd.variables['rho1D'][:]\n",
    "    rho = np.expand_dims(rho_temp, axis = 0) # allows to treat it as a wvf\n",
    "    int_factor = dset_fwd.variables['integral_factor'][:]\n",
    "    npoints = np.max(sem_mesh) + 1\n",
    "    nelem = len(nu)\n",
    "    s = np.zeros(npoints, dtype = np.float32)\n",
    "    z = np.zeros(npoints, dtype = np.float32)\n",
    "    tim = dset_fwd.variables[\"time\"][:]\n",
    "    dt = tim[1] - tim[0]"
   ]
  },
  {
   "cell_type": "code",
   "execution_count": null,
   "metadata": {},
   "outputs": [],
   "source": [
    "\n"
   ]
  }
 ],
 "metadata": {
  "kernelspec": {
   "display_name": "Python 3",
   "language": "python",
   "name": "python3"
  },
  "language_info": {
   "codemirror_mode": {
    "name": "ipython",
    "version": 3
   },
   "file_extension": ".py",
   "mimetype": "text/x-python",
   "name": "python",
   "nbconvert_exporter": "python",
   "pygments_lexer": "ipython3",
   "version": "3.6.4"
  }
 },
 "nbformat": 4,
 "nbformat_minor": 2
}
