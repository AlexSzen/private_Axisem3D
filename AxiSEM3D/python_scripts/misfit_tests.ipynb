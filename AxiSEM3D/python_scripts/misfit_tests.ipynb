{
 "cells": [
  {
   "cell_type": "markdown",
   "metadata": {},
   "source": [
    "Plot some seismograms from AxiSEM3D\n"
   ]
  },
  {
   "cell_type": "code",
   "execution_count": 10,
   "metadata": {},
   "outputs": [],
   "source": [
    "#### Modules\n",
    "from netCDF4 import Dataset\n",
    "import numpy as np\n",
    "import matplotlib.pyplot as plt\n",
    "import sys\n",
    "import os\n"
   ]
  },
  {
   "cell_type": "code",
   "execution_count": 11,
   "metadata": {},
   "outputs": [],
   "source": [
    "#### helper functions\n",
    "\n",
    "def time_to_freq(time):\n",
    "\n",
    "    freq = np.asarray(range(int(len(time)/2)+1),dtype = np.float32) / (time[-1] - time[0])\n",
    "    return freq\n",
    "\n",
    "def log_gabor_filter(freq, center_f, sigma):\n",
    "\n",
    "    filt = np.zeros(len(freq), dtype = np.float32)\n",
    "    filt[1:] = np.exp( -np.power(np.log(np.asarray(freq[1:])/center_f), 2.)  / (2. * np.power(np.log(sigma),2.)))\n",
    "    return filt\n",
    "\n",
    "def butter_lowpass_filter(freq, cutoff, order):\n",
    "\n",
    "    filt = 1 / np.sqrt(1 + np.power(freq/cutoff, 2. * order))\n",
    "    return filt\n",
    "\n",
    "def cosine_taper(t, T1, T2):\n",
    "    num_steps = len(t)\n",
    "    taper = np.zeros(num_steps, dtype = np.float32)\n",
    "\n",
    "    ### find start and end indices of time window\n",
    "    ind_start = 0\n",
    "    ind_end = 0\n",
    "    \n",
    "    for it in range(1, num_steps-1):\n",
    "        if t[it-1] <= T1 and t[it]>=T1:\n",
    "            ind_start = it-1\n",
    "        if t[it-1] <= T2 and t[it]>=T2:\n",
    "            ind_end = it        \n",
    "    \n",
    "    taper[ind_start:ind_end+1] = 1\n",
    "    print(ind_start, ind_end)\n",
    "    ### taper 30% before and after window length. make sure no undefined behavior.\n",
    "    cut = int(30 * (ind_end-ind_start) / 100.)\n",
    "    if cut<2:\n",
    "        cut=2\n",
    "    print(cut)\n",
    "    ### fill taper\n",
    "    cos_part = np.cos(3*np.pi/2. + np.pi/2. * ( np.asarray(range(cut), dtype = np.float32) /(cut-1)))\n",
    "    taper[ind_start-cut:ind_start] = cos_part\n",
    "    taper[ind_end+1:ind_end+1+cut] = np.flip(cos_part,0)\n",
    "\n",
    "    return taper\n"
   ]
  },
  {
   "cell_type": "code",
   "execution_count": 16,
   "metadata": {},
   "outputs": [
    {
     "data": {
      "text/plain": [
       "Text(0,0.5,'Amplitude (m)')"
      ]
     },
     "execution_count": 16,
     "metadata": {},
     "output_type": "execute_result"
    },
    {
     "data": {
      "image/png": "[encoded data removed]",
      "text/plain": [
       "<Figure size 432x288 with 1 Axes>"
      ]
     },
     "metadata": {},
     "output_type": "display_data"
    }
   ],
   "source": [
    "#### Inputs\n",
    "\n",
    "INPUT_DIR = '/home/alex/Desktop/phd/private_Axisem3D/AxiSEM3D/build/output/stations/'\n",
    "OUTPUT_DIR = '/home/alex/Desktop/phd/figures/seismograms/'\n",
    "\n",
    "STATION = 'II.AAK.SPZ'\n",
    "\n",
    "smgr = Dataset(INPUT_DIR + 'axisem3d_synthetics_fwd.nc', 'r')\n",
    "\n",
    "\n",
    "time = smgr.variables['time_points'][:]\n",
    "station = smgr.variables[STATION][:]\n",
    "#freq = time_to_freq(time)\n",
    "\n",
    "fig = plt.figure()\n",
    "plt.title('Recorded seismogram')\n",
    "plt.plot(time, station)\n",
    "plt.axvline(x=664.956,color='k', linestyle='--')\n",
    "plt.legend(['S','Phi','Z','TauP time'])\n",
    "plt.xlabel('Time (s)')\n",
    "plt.ylabel('Amplitude (m)')\n",
    "#plt.savefig(OUTPUT_DIR+'misfittest_case5_forward_seismogram.png', dpi=300, bbox_inches='tight')\n",
    "\n",
    "\n"
   ]
  },
  {
   "cell_type": "code",
   "execution_count": null,
   "metadata": {},
   "outputs": [],
   "source": [
    "#### Look at strain from master AxiSEM3D\n",
    "\n",
    "INPUT_DIR = '/home/alex/Desktop/phd/master_axisem3d/AxiSEM3D/build/output/stations/'\n",
    "OUTPUT_DIR = '/home/alex/Desktop/phd/figures/seismograms/'\n",
    "\n",
    "STATION = 'II.AAK.RTZ.strain'\n",
    "\n",
    "smgr = Dataset(INPUT_DIR + 'axisem3d_synthetics.nc', 'r')\n",
    "\n",
    "\n",
    "time = smgr.variables['time_points'][:]\n",
    "station = smgr.variables[STATION][:]\n",
    "taper = cosine_taper(time, 580.,720.)\n",
    "\n",
    "fig = plt.figure()\n",
    "plt.title('Time windowed trace of strain')\n",
    "plt.plot(time, taper * (station[:,0]+station[:,1]+station[:,2])) #trace of strain\n",
    "plt.xlabel('Time (s)')\n",
    "plt.ylabel('Amplitude (m)')\n",
    "\n",
    "plt.savefig(OUTPUT_DIR+'traceStrain_S90N0E_R20N0E.png', dpi=300, bbox_inches='tight')"
   ]
  },
  {
   "cell_type": "code",
   "execution_count": null,
   "metadata": {
    "scrolled": true
   },
   "outputs": [],
   "source": [
    "\n",
    "filt = butter_lowpass_filter(freq, 1./30, 4)\n",
    "plt.plot(freq[:100], filt[:100])\n",
    "plt.title('Log_gabor filter. Tc=70s, sigma=0.7')\n",
    "plt.xlabel('Frequency (Hz)')\n",
    "plt.ylabel('Amplitude')\n",
    "#plt.savefig(OUTPUT_DIR+'case5_low_butter_filter.png', dpi=300, bbox_inches='tight')"
   ]
  },
  {
   "cell_type": "code",
   "execution_count": null,
   "metadata": {},
   "outputs": [],
   "source": [
    "taper = cosine_taper(time, 460.,630.)\n",
    "plt.plot(time,taper)\n",
    "plt.title('Cosine taper, 30%. Time window T=[460s:630s]')\n",
    "plt.xlabel('Time (s)')\n",
    "plt.ylabel('Amplitude')\n",
    "#plt.savefig(OUTPUT_DIR+'case5_cosine_taper.png', dpi=300, bbox_inches='tight')\n"
   ]
  },
  {
   "cell_type": "code",
   "execution_count": null,
   "metadata": {},
   "outputs": [],
   "source": [
    "#### Some processing then plot \n",
    "\n",
    "\n",
    "s=np.squeeze(station[:,0])\n",
    "s_t = taper*s\n",
    "s_ft = taper * np.fft.irfft(2. * np.pi * filt* 1j * freq * np.fft.rfft(s), len(s) )\n",
    "s_2ft = taper * np.fft.irfft(2. * np.pi * freq * 2. * np.pi * filt* 1j *1j * freq * np.fft.rfft(s), len(s) )\n",
    "dt = time[1]-time[0]\n",
    "norm = np.sum(dt*s_2ft*s)\n",
    "\n",
    "plt.plot(time,s_ft)\n",
    "#plt.plot(time,s_t)\n",
    "plt.title('Processed velocity S component')\n",
    "#plt.legend(['tapered and filtered velocity S component'])\n",
    "plt.xlabel('Time (s)')\n",
    "plt.ylabel('Amplitude (m/s)')\n",
    "#plt.savefig(OUTPUT_DIR+'case5_Processed_S_seism.png', dpi=300, bbox_inches='tight')\n",
    "\n"
   ]
  },
  {
   "cell_type": "code",
   "execution_count": null,
   "metadata": {},
   "outputs": [],
   "source": [
    "#### Plot adjoint source\n",
    "\n",
    "#adj = np.flip(s_ft,0)\n",
    "adj = np.zeros(len(s_ft))\n",
    "for i in range(len(s_ft)-1):\n",
    "    adj[i] = -s_ft[len(s_ft)-1-i] \n",
    "plt.plot(time, adj/norm)\n",
    "plt.title('Adjoint source')\n",
    "plt.xlabel('Time (s)')\n",
    "plt.ylabel('Amplitude (m)')\n",
    "#plt.savefig(OUTPUT_DIR+'case3_adjoint_source.png', dpi=300, bbox_inches='tight')\n",
    "plt.show()"
   ]
  },
  {
   "cell_type": "code",
   "execution_count": null,
   "metadata": {},
   "outputs": [],
   "source": [
    "test2 = np.loadtxt(INPUT_DIR+\"test.txt\")\n",
    "plt.plot(time,test2)\n",
    "plt.title('Adjoint source (output from AxiSEM3D)')\n",
    "plt.xlabel('Time (s)')\n",
    "plt.ylabel('Amplitude (m)')"
   ]
  },
  {
   "cell_type": "code",
   "execution_count": null,
   "metadata": {},
   "outputs": [],
   "source": [
    "### plot L1 seismogram difference between 1D and 3D\n",
    "\n",
    "s1D = np.loadtxt(INPUT_DIR+'test1D.txt')\n",
    "s3D = np.loadtxt(INPUT_DIR+'test.txt')\n",
    "plt.plot(time,s1D)\n",
    "plt.plot(time, s3D)\n",
    "plt.xlim(400, 700)\n"
   ]
  },
  {
   "cell_type": "code",
   "execution_count": null,
   "metadata": {},
   "outputs": [],
   "source": [
    "INPUT_DIR = '/home/alex/Desktop/phd/axisem3d_alex/AxiSEM3D/build/output/stations/'\n",
    "OUTPUT_DIR = '/home/alex/Desktop/phd/figures/seismograms/'\n",
    "\n",
    "STATION = 'II.AAK.SPZ'\n",
    "\n",
    "smgr1D = Dataset(INPUT_DIR + 'axisem3d_synthetics_1D_dt0.01.nc', 'r')\n",
    "smgr3D = Dataset(INPUT_DIR + 'axisem3d_synthetics_traveltime_0.05vp_610km_dt0.01.nc', 'r')\n",
    "\n",
    "time = smgr1D.variables['time_points'][:]\n",
    "station1D = smgr1D.variables[STATION][:]\n",
    "station3D = smgr3D.variables[STATION][:]\n",
    "freq = time_to_freq(time)\n",
    "\n",
    "taper = cosine_taper(time, 460.,670.)\n",
    "filt = butter_lowpass_filter(freq, 1./70., 4)\n"
   ]
  },
  {
   "cell_type": "code",
   "execution_count": null,
   "metadata": {},
   "outputs": [],
   "source": [
    "dt = time[1]-time[0]\n",
    "s1D=np.squeeze(station1D[:,0])\n",
    "s_t1D = taper*s1D\n",
    "s_ft1D = taper * np.fft.irfft( filt * np.fft.rfft(s1D), len(s1D) )\n",
    "\n",
    "s3D=np.squeeze(station3D[:,0])\n",
    "s_t3D = taper*s3D\n",
    "s_ft3D = taper * np.fft.irfft( filt * np.fft.rfft(s3D), len(s3D) )\n",
    "\n",
    "corr1, corr2 = np.correlate(s_ft1D,s_ft1D,'full'), np.correlate(s_ft1D,s_ft3D,'full')\n",
    "delta_T = dt * (np.argmax(corr1)-np.argmax(corr2))\n",
    "print(delta_T)\n",
    "\n",
    "plt.plot(time,s_ft1D)\n",
    "plt.plot(time,s_ft3D,'r')\n"
   ]
  },
  {
   "cell_type": "code",
   "execution_count": null,
   "metadata": {},
   "outputs": [],
   "source": [
    "R_cyl = np.asarray([130,160,190,220,250,280,310,340,370,400,430,460,490,520,550,580,610])\n",
    "dT_corr = np.asarray([0.26,0.32,0.40,0.48,0.57,0.68,0.79,0.91,1.03,1.19,1.34,1.51,1.69,1.88,2.08,2.30,2.53])\n",
    "dT_ker = np.asarray([0.001149740,0.0014468599,0.00178057369,0.002152203140,0.0025605512542,0.003006292620,0.0034908099262,\n",
    "                     0.004013593846,0.004573868364,0.005172478080,0.005808964591,0.006483368506,0.007194869292,\n",
    "                     0.007941812371,0.008724373694,0.009541741861,0.010391172660])\n",
    "\n",
    "dT_ratio = dT_corr/dT_ker\n",
    "\n",
    "err = 0.01\n",
    "\n",
    "import matplotlib\n",
    "matplotlib.rcParams.update({'font.size': 16})\n",
    "\n",
    "\n",
    "plt.errorbar(R_cyl,-dT_corr,yerr=err, fmt='o')\n",
    "#plt.plot(R_cyl,-dT_corr,'*')\n",
    "plt.xlabel('Radius cylinder (km)',fontsize=16)\n",
    "#plt.ylabel('$\\delta T_{corr}/\\delta T_{ker}$',fontsize=16)\n",
    "plt.ylabel('$\\delta T_{corr}$ (s)',fontsize=16)\n",
    "plt.savefig(OUTPUT_DIR+'dTcorr_Rcyl.png', dpi=300, bbox_inches='tight')"
   ]
  },
  {
   "cell_type": "code",
   "execution_count": null,
   "metadata": {},
   "outputs": [],
   "source": []
  }
 ],
 "metadata": {
  "kernelspec": {
   "display_name": "Python 3",
   "language": "python",
   "name": "python3"
  },
  "language_info": {
   "codemirror_mode": {
    "name": "ipython",
    "version": 3
   },
   "file_extension": ".py",
   "mimetype": "text/x-python",
   "name": "python",
   "nbconvert_exporter": "python",
   "pygments_lexer": "ipython3",
   "version": "3.6.4"
  }
 },
 "nbformat": 4,
 "nbformat_minor": 2
}
